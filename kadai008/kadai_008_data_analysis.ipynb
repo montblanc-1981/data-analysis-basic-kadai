{
  "nbformat": 4,
  "nbformat_minor": 0,
  "metadata": {
    "colab": {
      "provenance": [],
      "authorship_tag": "ABX9TyMQsVjkJFpd9aQ+23Fr/g9z",
      "include_colab_link": true
    },
    "kernelspec": {
      "name": "python3",
      "display_name": "Python 3"
    },
    "language_info": {
      "name": "python"
    }
  },
  "cells": [
    {
      "cell_type": "markdown",
      "metadata": {
        "id": "view-in-github",
        "colab_type": "text"
      },
      "source": [
        "<a href=\"https://colab.research.google.com/github/montblanc-1981/data-analysis-basic-kadai/blob/main/kadai008/kadai_008_data_analysis.ipynb\" target=\"_parent\"><img src=\"https://colab.research.google.com/assets/colab-badge.svg\" alt=\"Open In Colab\"/></a>"
      ]
    },
    {
      "cell_type": "code",
      "execution_count": 2,
      "metadata": {
        "id": "ZErphOUqNnV9"
      },
      "outputs": [],
      "source": [
        "from sklearn.datasets import load_wine\n"
      ]
    },
    {
      "cell_type": "code",
      "source": [
        "dataset = load_wine()\n",
        "dataset.data\n",
        "dataset.target\n",
        "\n",
        "import pandas as pd\n",
        "df = pd.DataFrame(data=dataset.data, columns=dataset.feature_names)\n",
        "df['category'] = dataset.target"
      ],
      "metadata": {
        "id": "v61IoQpSN8Jx"
      },
      "execution_count": 3,
      "outputs": []
    },
    {
      "cell_type": "code",
      "source": [
        "X = dataset.data\n",
        "y = dataset.target\n"
      ],
      "metadata": {
        "id": "oLX3eL55PB86"
      },
      "execution_count": 4,
      "outputs": []
    },
    {
      "cell_type": "code",
      "source": [
        "from sklearn.model_selection import train_test_split\n"
      ],
      "metadata": {
        "id": "HFYZN9uaPJTm"
      },
      "execution_count": 5,
      "outputs": []
    },
    {
      "cell_type": "code",
      "source": [
        "train_test_split(X, y, test_size=0.3, random_state=5)\n"
      ],
      "metadata": {
        "colab": {
          "base_uri": "https://localhost:8080/"
        },
        "id": "VMb2bKoTPcoq",
        "outputId": "f3f50287-5a6c-4be4-d690-ca68500e0661"
      },
      "execution_count": 6,
      "outputs": [
        {
          "output_type": "execute_result",
          "data": {
            "text/plain": [
              "[array([[1.358e+01, 2.580e+00, 2.690e+00, ..., 7.400e-01, 1.800e+00,\n",
              "         7.500e+02],\n",
              "        [1.234e+01, 2.450e+00, 2.460e+00, ..., 8.000e-01, 3.380e+00,\n",
              "         4.380e+02],\n",
              "        [1.285e+01, 3.270e+00, 2.580e+00, ..., 8.700e-01, 2.110e+00,\n",
              "         5.700e+02],\n",
              "        ...,\n",
              "        [1.225e+01, 3.880e+00, 2.200e+00, ..., 6.500e-01, 2.000e+00,\n",
              "         8.550e+02],\n",
              "        [1.277e+01, 3.430e+00, 1.980e+00, ..., 7.000e-01, 2.120e+00,\n",
              "         3.720e+02],\n",
              "        [1.229e+01, 3.170e+00, 2.210e+00, ..., 1.420e+00, 2.830e+00,\n",
              "         4.060e+02]]),\n",
              " array([[1.387000e+01, 1.900000e+00, 2.800000e+00, 1.940000e+01,\n",
              "         1.070000e+02, 2.950000e+00, 2.970000e+00, 3.700000e-01,\n",
              "         1.760000e+00, 4.500000e+00, 1.250000e+00, 3.400000e+00,\n",
              "         9.150000e+02],\n",
              "        [1.311000e+01, 1.010000e+00, 1.700000e+00, 1.500000e+01,\n",
              "         7.800000e+01, 2.980000e+00, 3.180000e+00, 2.600000e-01,\n",
              "         2.280000e+00, 5.300000e+00, 1.120000e+00, 3.180000e+00,\n",
              "         5.020000e+02],\n",
              "        [1.437000e+01, 1.950000e+00, 2.500000e+00, 1.680000e+01,\n",
              "         1.130000e+02, 3.850000e+00, 3.490000e+00, 2.400000e-01,\n",
              "         2.180000e+00, 7.800000e+00, 8.600000e-01, 3.450000e+00,\n",
              "         1.480000e+03],\n",
              "        [1.383000e+01, 1.570000e+00, 2.620000e+00, 2.000000e+01,\n",
              "         1.150000e+02, 2.950000e+00, 3.400000e+00, 4.000000e-01,\n",
              "         1.720000e+00, 6.600000e+00, 1.130000e+00, 2.570000e+00,\n",
              "         1.130000e+03],\n",
              "        [1.349000e+01, 3.590000e+00, 2.190000e+00, 1.950000e+01,\n",
              "         8.800000e+01, 1.620000e+00, 4.800000e-01, 5.800000e-01,\n",
              "         8.800000e-01, 5.700000e+00, 8.100000e-01, 1.820000e+00,\n",
              "         5.800000e+02],\n",
              "        [1.345000e+01, 3.700000e+00, 2.600000e+00, 2.300000e+01,\n",
              "         1.110000e+02, 1.700000e+00, 9.200000e-01, 4.300000e-01,\n",
              "         1.460000e+00, 1.068000e+01, 8.500000e-01, 1.560000e+00,\n",
              "         6.950000e+02],\n",
              "        [1.410000e+01, 2.020000e+00, 2.400000e+00, 1.880000e+01,\n",
              "         1.030000e+02, 2.750000e+00, 2.920000e+00, 3.200000e-01,\n",
              "         2.380000e+00, 6.200000e+00, 1.070000e+00, 2.750000e+00,\n",
              "         1.060000e+03],\n",
              "        [1.356000e+01, 1.710000e+00, 2.310000e+00, 1.620000e+01,\n",
              "         1.170000e+02, 3.150000e+00, 3.290000e+00, 3.400000e-01,\n",
              "         2.340000e+00, 6.130000e+00, 9.500000e-01, 3.380000e+00,\n",
              "         7.950000e+02],\n",
              "        [1.247000e+01, 1.520000e+00, 2.200000e+00, 1.900000e+01,\n",
              "         1.620000e+02, 2.500000e+00, 2.270000e+00, 3.200000e-01,\n",
              "         3.280000e+00, 2.600000e+00, 1.160000e+00, 2.630000e+00,\n",
              "         9.370000e+02],\n",
              "        [1.305000e+01, 2.050000e+00, 3.220000e+00, 2.500000e+01,\n",
              "         1.240000e+02, 2.630000e+00, 2.680000e+00, 4.700000e-01,\n",
              "         1.920000e+00, 3.580000e+00, 1.130000e+00, 3.200000e+00,\n",
              "         8.300000e+02],\n",
              "        [1.422000e+01, 3.990000e+00, 2.510000e+00, 1.320000e+01,\n",
              "         1.280000e+02, 3.000000e+00, 3.040000e+00, 2.000000e-01,\n",
              "         2.080000e+00, 5.100000e+00, 8.900000e-01, 3.530000e+00,\n",
              "         7.600000e+02],\n",
              "        [1.356000e+01, 1.730000e+00, 2.460000e+00, 2.050000e+01,\n",
              "         1.160000e+02, 2.960000e+00, 2.780000e+00, 2.000000e-01,\n",
              "         2.450000e+00, 6.250000e+00, 9.800000e-01, 3.030000e+00,\n",
              "         1.120000e+03],\n",
              "        [1.270000e+01, 3.550000e+00, 2.360000e+00, 2.150000e+01,\n",
              "         1.060000e+02, 1.700000e+00, 1.200000e+00, 1.700000e-01,\n",
              "         8.400000e-01, 5.000000e+00, 7.800000e-01, 1.290000e+00,\n",
              "         6.000000e+02],\n",
              "        [1.260000e+01, 1.340000e+00, 1.900000e+00, 1.850000e+01,\n",
              "         8.800000e+01, 1.450000e+00, 1.360000e+00, 2.900000e-01,\n",
              "         1.350000e+00, 2.450000e+00, 1.040000e+00, 2.770000e+00,\n",
              "         5.620000e+02],\n",
              "        [1.352000e+01, 3.170000e+00, 2.720000e+00, 2.350000e+01,\n",
              "         9.700000e+01, 1.550000e+00, 5.200000e-01, 5.000000e-01,\n",
              "         5.500000e-01, 4.350000e+00, 8.900000e-01, 2.060000e+00,\n",
              "         5.200000e+02],\n",
              "        [1.339000e+01, 1.770000e+00, 2.620000e+00, 1.610000e+01,\n",
              "         9.300000e+01, 2.850000e+00, 2.940000e+00, 3.400000e-01,\n",
              "         1.450000e+00, 4.800000e+00, 9.200000e-01, 3.220000e+00,\n",
              "         1.195000e+03],\n",
              "        [1.243000e+01, 1.530000e+00, 2.290000e+00, 2.150000e+01,\n",
              "         8.600000e+01, 2.740000e+00, 3.150000e+00, 3.900000e-01,\n",
              "         1.770000e+00, 3.940000e+00, 6.900000e-01, 2.840000e+00,\n",
              "         3.520000e+02],\n",
              "        [1.324000e+01, 3.980000e+00, 2.290000e+00, 1.750000e+01,\n",
              "         1.030000e+02, 2.640000e+00, 2.630000e+00, 3.200000e-01,\n",
              "         1.660000e+00, 4.360000e+00, 8.200000e-01, 3.000000e+00,\n",
              "         6.800000e+02],\n",
              "        [1.184000e+01, 8.900000e-01, 2.580000e+00, 1.800000e+01,\n",
              "         9.400000e+01, 2.200000e+00, 2.210000e+00, 2.200000e-01,\n",
              "         2.350000e+00, 3.050000e+00, 7.900000e-01, 3.080000e+00,\n",
              "         5.200000e+02],\n",
              "        [1.293000e+01, 3.800000e+00, 2.650000e+00, 1.860000e+01,\n",
              "         1.020000e+02, 2.410000e+00, 2.410000e+00, 2.500000e-01,\n",
              "         1.980000e+00, 4.500000e+00, 1.030000e+00, 3.520000e+00,\n",
              "         7.700000e+02],\n",
              "        [1.422000e+01, 1.700000e+00, 2.300000e+00, 1.630000e+01,\n",
              "         1.180000e+02, 3.200000e+00, 3.000000e+00, 2.600000e-01,\n",
              "         2.030000e+00, 6.380000e+00, 9.400000e-01, 3.310000e+00,\n",
              "         9.700000e+02],\n",
              "        [1.329000e+01, 1.970000e+00, 2.680000e+00, 1.680000e+01,\n",
              "         1.020000e+02, 3.000000e+00, 3.230000e+00, 3.100000e-01,\n",
              "         1.660000e+00, 6.000000e+00, 1.070000e+00, 2.840000e+00,\n",
              "         1.270000e+03],\n",
              "        [1.196000e+01, 1.090000e+00, 2.300000e+00, 2.100000e+01,\n",
              "         1.010000e+02, 3.380000e+00, 2.140000e+00, 1.300000e-01,\n",
              "         1.650000e+00, 3.210000e+00, 9.900000e-01, 3.130000e+00,\n",
              "         8.860000e+02],\n",
              "        [1.269000e+01, 1.530000e+00, 2.260000e+00, 2.070000e+01,\n",
              "         8.000000e+01, 1.380000e+00, 1.460000e+00, 5.800000e-01,\n",
              "         1.620000e+00, 3.050000e+00, 9.600000e-01, 2.060000e+00,\n",
              "         4.950000e+02],\n",
              "        [1.252000e+01, 2.430000e+00, 2.170000e+00, 2.100000e+01,\n",
              "         8.800000e+01, 2.550000e+00, 2.270000e+00, 2.600000e-01,\n",
              "         1.220000e+00, 2.000000e+00, 9.000000e-01, 2.780000e+00,\n",
              "         3.250000e+02],\n",
              "        [1.208000e+01, 1.390000e+00, 2.500000e+00, 2.250000e+01,\n",
              "         8.400000e+01, 2.560000e+00, 2.290000e+00, 4.300000e-01,\n",
              "         1.040000e+00, 2.900000e+00, 9.300000e-01, 3.190000e+00,\n",
              "         3.850000e+02],\n",
              "        [1.377000e+01, 1.900000e+00, 2.680000e+00, 1.710000e+01,\n",
              "         1.150000e+02, 3.000000e+00, 2.790000e+00, 3.900000e-01,\n",
              "         1.680000e+00, 6.300000e+00, 1.130000e+00, 2.930000e+00,\n",
              "         1.375000e+03],\n",
              "        [1.286000e+01, 1.350000e+00, 2.320000e+00, 1.800000e+01,\n",
              "         1.220000e+02, 1.510000e+00, 1.250000e+00, 2.100000e-01,\n",
              "         9.400000e-01, 4.100000e+00, 7.600000e-01, 1.290000e+00,\n",
              "         6.300000e+02],\n",
              "        [1.340000e+01, 3.910000e+00, 2.480000e+00, 2.300000e+01,\n",
              "         1.020000e+02, 1.800000e+00, 7.500000e-01, 4.300000e-01,\n",
              "         1.410000e+00, 7.300000e+00, 7.000000e-01, 1.560000e+00,\n",
              "         7.500000e+02],\n",
              "        [1.388000e+01, 1.890000e+00, 2.590000e+00, 1.500000e+01,\n",
              "         1.010000e+02, 3.250000e+00, 3.560000e+00, 1.700000e-01,\n",
              "         1.700000e+00, 5.430000e+00, 8.800000e-01, 3.560000e+00,\n",
              "         1.095000e+03],\n",
              "        [1.237000e+01, 1.630000e+00, 2.300000e+00, 2.450000e+01,\n",
              "         8.800000e+01, 2.220000e+00, 2.450000e+00, 4.000000e-01,\n",
              "         1.900000e+00, 2.120000e+00, 8.900000e-01, 2.780000e+00,\n",
              "         3.420000e+02],\n",
              "        [1.367000e+01, 1.250000e+00, 1.920000e+00, 1.800000e+01,\n",
              "         9.400000e+01, 2.100000e+00, 1.790000e+00, 3.200000e-01,\n",
              "         7.300000e-01, 3.800000e+00, 1.230000e+00, 2.460000e+00,\n",
              "         6.300000e+02],\n",
              "        [1.285000e+01, 1.600000e+00, 2.520000e+00, 1.780000e+01,\n",
              "         9.500000e+01, 2.480000e+00, 2.370000e+00, 2.600000e-01,\n",
              "         1.460000e+00, 3.930000e+00, 1.090000e+00, 3.630000e+00,\n",
              "         1.015000e+03],\n",
              "        [1.320000e+01, 1.780000e+00, 2.140000e+00, 1.120000e+01,\n",
              "         1.000000e+02, 2.650000e+00, 2.760000e+00, 2.600000e-01,\n",
              "         1.280000e+00, 4.380000e+00, 1.050000e+00, 3.400000e+00,\n",
              "         1.050000e+03],\n",
              "        [1.316000e+01, 3.570000e+00, 2.150000e+00, 2.100000e+01,\n",
              "         1.020000e+02, 1.500000e+00, 5.500000e-01, 4.300000e-01,\n",
              "         1.300000e+00, 4.000000e+00, 6.000000e-01, 1.680000e+00,\n",
              "         8.300000e+02],\n",
              "        [1.317000e+01, 2.590000e+00, 2.370000e+00, 2.000000e+01,\n",
              "         1.200000e+02, 1.650000e+00, 6.800000e-01, 5.300000e-01,\n",
              "         1.460000e+00, 9.300000e+00, 6.000000e-01, 1.620000e+00,\n",
              "         8.400000e+02],\n",
              "        [1.374000e+01, 1.670000e+00, 2.250000e+00, 1.640000e+01,\n",
              "         1.180000e+02, 2.600000e+00, 2.900000e+00, 2.100000e-01,\n",
              "         1.620000e+00, 5.850000e+00, 9.200000e-01, 3.200000e+00,\n",
              "         1.060000e+03],\n",
              "        [1.293000e+01, 2.810000e+00, 2.700000e+00, 2.100000e+01,\n",
              "         9.600000e+01, 1.540000e+00, 5.000000e-01, 5.300000e-01,\n",
              "         7.500000e-01, 4.600000e+00, 7.700000e-01, 2.310000e+00,\n",
              "         6.000000e+02],\n",
              "        [1.332000e+01, 3.240000e+00, 2.380000e+00, 2.150000e+01,\n",
              "         9.200000e+01, 1.930000e+00, 7.600000e-01, 4.500000e-01,\n",
              "         1.250000e+00, 8.420000e+00, 5.500000e-01, 1.620000e+00,\n",
              "         6.500000e+02],\n",
              "        [1.272000e+01, 1.810000e+00, 2.200000e+00, 1.880000e+01,\n",
              "         8.600000e+01, 2.200000e+00, 2.530000e+00, 2.600000e-01,\n",
              "         1.770000e+00, 3.900000e+00, 1.160000e+00, 3.140000e+00,\n",
              "         7.140000e+02],\n",
              "        [1.164000e+01, 2.060000e+00, 2.460000e+00, 2.160000e+01,\n",
              "         8.400000e+01, 1.950000e+00, 1.690000e+00, 4.800000e-01,\n",
              "         1.350000e+00, 2.800000e+00, 1.000000e+00, 2.750000e+00,\n",
              "         6.800000e+02],\n",
              "        [1.264000e+01, 1.360000e+00, 2.020000e+00, 1.680000e+01,\n",
              "         1.000000e+02, 2.020000e+00, 1.410000e+00, 5.300000e-01,\n",
              "         6.200000e-01, 5.750000e+00, 9.800000e-01, 1.590000e+00,\n",
              "         4.500000e+02],\n",
              "        [1.225000e+01, 4.720000e+00, 2.540000e+00, 2.100000e+01,\n",
              "         8.900000e+01, 1.380000e+00, 4.700000e-01, 5.300000e-01,\n",
              "         8.000000e-01, 3.850000e+00, 7.500000e-01, 1.270000e+00,\n",
              "         7.200000e+02],\n",
              "        [1.438000e+01, 3.590000e+00, 2.280000e+00, 1.600000e+01,\n",
              "         1.020000e+02, 3.250000e+00, 3.170000e+00, 2.700000e-01,\n",
              "         2.190000e+00, 4.900000e+00, 1.040000e+00, 3.440000e+00,\n",
              "         1.065000e+03],\n",
              "        [1.277000e+01, 2.390000e+00, 2.280000e+00, 1.950000e+01,\n",
              "         8.600000e+01, 1.390000e+00, 5.100000e-01, 4.800000e-01,\n",
              "         6.400000e-01, 9.899999e+00, 5.700000e-01, 1.630000e+00,\n",
              "         4.700000e+02],\n",
              "        [1.237000e+01, 1.130000e+00, 2.160000e+00, 1.900000e+01,\n",
              "         8.700000e+01, 3.500000e+00, 3.100000e+00, 1.900000e-01,\n",
              "         1.870000e+00, 4.450000e+00, 1.220000e+00, 2.870000e+00,\n",
              "         4.200000e+02],\n",
              "        [1.305000e+01, 1.730000e+00, 2.040000e+00, 1.240000e+01,\n",
              "         9.200000e+01, 2.720000e+00, 3.270000e+00, 1.700000e-01,\n",
              "         2.910000e+00, 7.200000e+00, 1.120000e+00, 2.910000e+00,\n",
              "         1.150000e+03],\n",
              "        [1.296000e+01, 3.450000e+00, 2.350000e+00, 1.850000e+01,\n",
              "         1.060000e+02, 1.390000e+00, 7.000000e-01, 4.000000e-01,\n",
              "         9.400000e-01, 5.280000e+00, 6.800000e-01, 1.750000e+00,\n",
              "         6.750000e+02],\n",
              "        [1.375000e+01, 1.730000e+00, 2.410000e+00, 1.600000e+01,\n",
              "         8.900000e+01, 2.600000e+00, 2.760000e+00, 2.900000e-01,\n",
              "         1.810000e+00, 5.600000e+00, 1.150000e+00, 2.900000e+00,\n",
              "         1.320000e+03],\n",
              "        [1.229000e+01, 1.410000e+00, 1.980000e+00, 1.600000e+01,\n",
              "         8.500000e+01, 2.550000e+00, 2.500000e+00, 2.900000e-01,\n",
              "         1.770000e+00, 2.900000e+00, 1.230000e+00, 2.740000e+00,\n",
              "         4.280000e+02],\n",
              "        [1.383000e+01, 1.650000e+00, 2.600000e+00, 1.720000e+01,\n",
              "         9.400000e+01, 2.450000e+00, 2.990000e+00, 2.200000e-01,\n",
              "         2.290000e+00, 5.600000e+00, 1.240000e+00, 3.370000e+00,\n",
              "         1.265000e+03],\n",
              "        [1.229000e+01, 2.830000e+00, 2.220000e+00, 1.800000e+01,\n",
              "         8.800000e+01, 2.450000e+00, 2.250000e+00, 2.500000e-01,\n",
              "         1.990000e+00, 2.150000e+00, 1.150000e+00, 3.300000e+00,\n",
              "         2.900000e+02],\n",
              "        [1.237000e+01, 1.070000e+00, 2.100000e+00, 1.850000e+01,\n",
              "         8.800000e+01, 3.520000e+00, 3.750000e+00, 2.400000e-01,\n",
              "         1.950000e+00, 4.500000e+00, 1.040000e+00, 2.770000e+00,\n",
              "         6.600000e+02],\n",
              "        [1.364000e+01, 3.100000e+00, 2.560000e+00, 1.520000e+01,\n",
              "         1.160000e+02, 2.700000e+00, 3.030000e+00, 1.700000e-01,\n",
              "         1.660000e+00, 5.100000e+00, 9.600000e-01, 3.360000e+00,\n",
              "         8.450000e+02]]),\n",
              " array([2, 1, 2, 1, 0, 1, 1, 0, 2, 0, 1, 2, 2, 0, 0, 1, 2, 1, 1, 2, 2, 2,\n",
              "        1, 0, 0, 0, 1, 1, 0, 1, 2, 1, 0, 0, 2, 1, 0, 2, 2, 2, 1, 1, 2, 2,\n",
              "        2, 1, 1, 1, 1, 1, 2, 1, 0, 1, 1, 1, 0, 0, 1, 0, 0, 2, 2, 0, 2, 0,\n",
              "        2, 1, 0, 1, 0, 2, 1, 1, 0, 1, 1, 1, 1, 0, 1, 1, 1, 2, 2, 0, 2, 0,\n",
              "        1, 0, 0, 2, 1, 1, 2, 0, 0, 0, 2, 1, 1, 0, 1, 2, 1, 2, 1, 1, 0, 1,\n",
              "        0, 0, 1, 1, 2, 0, 2, 1, 2, 0, 1, 2, 1, 1]),\n",
              " array([0, 1, 0, 0, 2, 2, 0, 0, 1, 0, 0, 0, 2, 1, 2, 0, 1, 0, 1, 0, 0, 0,\n",
              "        1, 1, 1, 1, 0, 2, 2, 0, 1, 1, 0, 0, 2, 2, 0, 2, 2, 1, 1, 1, 2, 0,\n",
              "        2, 1, 0, 2, 0, 1, 0, 1, 1, 0])]"
            ]
          },
          "metadata": {},
          "execution_count": 6
        }
      ]
    },
    {
      "cell_type": "code",
      "source": [
        "X_train, X_test, y_train, y_test = train_test_split(X, y, test_size=0.3, random_state=5)\n"
      ],
      "metadata": {
        "id": "yPDJNWY0Px7e"
      },
      "execution_count": 7,
      "outputs": []
    },
    {
      "cell_type": "code",
      "source": [
        "print(X.shape, X_train.shape, X_test.shape, y.shape, y_train.shape, y_test.shape)\n"
      ],
      "metadata": {
        "colab": {
          "base_uri": "https://localhost:8080/"
        },
        "id": "YIaWBFlQQIdK",
        "outputId": "e32acc43-a294-403c-82d4-8f5801f3402e"
      },
      "execution_count": 8,
      "outputs": [
        {
          "output_type": "stream",
          "name": "stdout",
          "text": [
            "(178, 13) (124, 13) (54, 13) (178,) (124,) (54,)\n"
          ]
        }
      ]
    },
    {
      "cell_type": "code",
      "source": [
        "from sklearn.ensemble import RandomForestClassifier\n"
      ],
      "metadata": {
        "id": "TfbIV8LMQx-d"
      },
      "execution_count": 11,
      "outputs": []
    },
    {
      "cell_type": "code",
      "source": [
        "model = RandomForestClassifier()"
      ],
      "metadata": {
        "id": "P9bQfudbRyp6"
      },
      "execution_count": 12,
      "outputs": []
    },
    {
      "cell_type": "code",
      "source": [
        "model.fit(X_train, y_train)\n"
      ],
      "metadata": {
        "colab": {
          "base_uri": "https://localhost:8080/",
          "height": 74
        },
        "id": "PF9NFhPQR9dS",
        "outputId": "7dc33f82-45db-42dc-ee76-605c6f453d2d"
      },
      "execution_count": 13,
      "outputs": [
        {
          "output_type": "execute_result",
          "data": {
            "text/plain": [
              "RandomForestClassifier()"
            ],
            "text/html": [
              "<style>#sk-container-id-1 {color: black;background-color: white;}#sk-container-id-1 pre{padding: 0;}#sk-container-id-1 div.sk-toggleable {background-color: white;}#sk-container-id-1 label.sk-toggleable__label {cursor: pointer;display: block;width: 100%;margin-bottom: 0;padding: 0.3em;box-sizing: border-box;text-align: center;}#sk-container-id-1 label.sk-toggleable__label-arrow:before {content: \"▸\";float: left;margin-right: 0.25em;color: #696969;}#sk-container-id-1 label.sk-toggleable__label-arrow:hover:before {color: black;}#sk-container-id-1 div.sk-estimator:hover label.sk-toggleable__label-arrow:before {color: black;}#sk-container-id-1 div.sk-toggleable__content {max-height: 0;max-width: 0;overflow: hidden;text-align: left;background-color: #f0f8ff;}#sk-container-id-1 div.sk-toggleable__content pre {margin: 0.2em;color: black;border-radius: 0.25em;background-color: #f0f8ff;}#sk-container-id-1 input.sk-toggleable__control:checked~div.sk-toggleable__content {max-height: 200px;max-width: 100%;overflow: auto;}#sk-container-id-1 input.sk-toggleable__control:checked~label.sk-toggleable__label-arrow:before {content: \"▾\";}#sk-container-id-1 div.sk-estimator input.sk-toggleable__control:checked~label.sk-toggleable__label {background-color: #d4ebff;}#sk-container-id-1 div.sk-label input.sk-toggleable__control:checked~label.sk-toggleable__label {background-color: #d4ebff;}#sk-container-id-1 input.sk-hidden--visually {border: 0;clip: rect(1px 1px 1px 1px);clip: rect(1px, 1px, 1px, 1px);height: 1px;margin: -1px;overflow: hidden;padding: 0;position: absolute;width: 1px;}#sk-container-id-1 div.sk-estimator {font-family: monospace;background-color: #f0f8ff;border: 1px dotted black;border-radius: 0.25em;box-sizing: border-box;margin-bottom: 0.5em;}#sk-container-id-1 div.sk-estimator:hover {background-color: #d4ebff;}#sk-container-id-1 div.sk-parallel-item::after {content: \"\";width: 100%;border-bottom: 1px solid gray;flex-grow: 1;}#sk-container-id-1 div.sk-label:hover label.sk-toggleable__label {background-color: #d4ebff;}#sk-container-id-1 div.sk-serial::before {content: \"\";position: absolute;border-left: 1px solid gray;box-sizing: border-box;top: 0;bottom: 0;left: 50%;z-index: 0;}#sk-container-id-1 div.sk-serial {display: flex;flex-direction: column;align-items: center;background-color: white;padding-right: 0.2em;padding-left: 0.2em;position: relative;}#sk-container-id-1 div.sk-item {position: relative;z-index: 1;}#sk-container-id-1 div.sk-parallel {display: flex;align-items: stretch;justify-content: center;background-color: white;position: relative;}#sk-container-id-1 div.sk-item::before, #sk-container-id-1 div.sk-parallel-item::before {content: \"\";position: absolute;border-left: 1px solid gray;box-sizing: border-box;top: 0;bottom: 0;left: 50%;z-index: -1;}#sk-container-id-1 div.sk-parallel-item {display: flex;flex-direction: column;z-index: 1;position: relative;background-color: white;}#sk-container-id-1 div.sk-parallel-item:first-child::after {align-self: flex-end;width: 50%;}#sk-container-id-1 div.sk-parallel-item:last-child::after {align-self: flex-start;width: 50%;}#sk-container-id-1 div.sk-parallel-item:only-child::after {width: 0;}#sk-container-id-1 div.sk-dashed-wrapped {border: 1px dashed gray;margin: 0 0.4em 0.5em 0.4em;box-sizing: border-box;padding-bottom: 0.4em;background-color: white;}#sk-container-id-1 div.sk-label label {font-family: monospace;font-weight: bold;display: inline-block;line-height: 1.2em;}#sk-container-id-1 div.sk-label-container {text-align: center;}#sk-container-id-1 div.sk-container {/* jupyter's `normalize.less` sets `[hidden] { display: none; }` but bootstrap.min.css set `[hidden] { display: none !important; }` so we also need the `!important` here to be able to override the default hidden behavior on the sphinx rendered scikit-learn.org. See: https://github.com/scikit-learn/scikit-learn/issues/21755 */display: inline-block !important;position: relative;}#sk-container-id-1 div.sk-text-repr-fallback {display: none;}</style><div id=\"sk-container-id-1\" class=\"sk-top-container\"><div class=\"sk-text-repr-fallback\"><pre>RandomForestClassifier()</pre><b>In a Jupyter environment, please rerun this cell to show the HTML representation or trust the notebook. <br />On GitHub, the HTML representation is unable to render, please try loading this page with nbviewer.org.</b></div><div class=\"sk-container\" hidden><div class=\"sk-item\"><div class=\"sk-estimator sk-toggleable\"><input class=\"sk-toggleable__control sk-hidden--visually\" id=\"sk-estimator-id-1\" type=\"checkbox\" checked><label for=\"sk-estimator-id-1\" class=\"sk-toggleable__label sk-toggleable__label-arrow\">RandomForestClassifier</label><div class=\"sk-toggleable__content\"><pre>RandomForestClassifier()</pre></div></div></div></div></div>"
            ]
          },
          "metadata": {},
          "execution_count": 13
        }
      ]
    },
    {
      "cell_type": "code",
      "source": [
        "y_pred = model.predict(X_test)\n",
        "y_pred"
      ],
      "metadata": {
        "colab": {
          "base_uri": "https://localhost:8080/"
        },
        "id": "rxZMr52NSMyD",
        "outputId": "d5ef1ea9-b9ab-4a07-87b8-a5d175be8829"
      },
      "execution_count": 14,
      "outputs": [
        {
          "output_type": "execute_result",
          "data": {
            "text/plain": [
              "array([0, 1, 0, 0, 2, 2, 0, 0, 1, 0, 0, 0, 2, 1, 2, 0, 1, 0, 1, 0, 0, 0,\n",
              "       1, 1, 1, 1, 0, 2, 2, 0, 1, 1, 0, 0, 2, 2, 0, 2, 2, 1, 1, 2, 2, 0,\n",
              "       2, 1, 0, 2, 0, 1, 0, 1, 1, 0])"
            ]
          },
          "metadata": {},
          "execution_count": 14
        }
      ]
    },
    {
      "cell_type": "code",
      "source": [
        "y_test"
      ],
      "metadata": {
        "colab": {
          "base_uri": "https://localhost:8080/"
        },
        "id": "USz8m6jVSVTT",
        "outputId": "767a70a1-8c32-4f41-c0ab-0a483df53546"
      },
      "execution_count": 15,
      "outputs": [
        {
          "output_type": "execute_result",
          "data": {
            "text/plain": [
              "array([0, 1, 0, 0, 2, 2, 0, 0, 1, 0, 0, 0, 2, 1, 2, 0, 1, 0, 1, 0, 0, 0,\n",
              "       1, 1, 1, 1, 0, 2, 2, 0, 1, 1, 0, 0, 2, 2, 0, 2, 2, 1, 1, 1, 2, 0,\n",
              "       2, 1, 0, 2, 0, 1, 0, 1, 1, 0])"
            ]
          },
          "metadata": {},
          "execution_count": 15
        }
      ]
    },
    {
      "cell_type": "code",
      "source": [
        "from sklearn.metrics import accuracy_score"
      ],
      "metadata": {
        "id": "W0RmVEeNSY1_"
      },
      "execution_count": 16,
      "outputs": []
    },
    {
      "cell_type": "code",
      "source": [
        "accuracy_score(y_test, y_pred)\n"
      ],
      "metadata": {
        "colab": {
          "base_uri": "https://localhost:8080/"
        },
        "id": "semGbz6eSq-a",
        "outputId": "ef8c334e-9275-4cfa-e3ed-b036d9458178"
      },
      "execution_count": 17,
      "outputs": [
        {
          "output_type": "execute_result",
          "data": {
            "text/plain": [
              "0.9814814814814815"
            ]
          },
          "metadata": {},
          "execution_count": 17
        }
      ]
    },
    {
      "cell_type": "code",
      "source": [
        "model.score(X_test, y_test)\n"
      ],
      "metadata": {
        "colab": {
          "base_uri": "https://localhost:8080/"
        },
        "id": "LE03mOobS0at",
        "outputId": "cef8d2d4-52ec-4bf2-b07c-68c9697c12eb"
      },
      "execution_count": 18,
      "outputs": [
        {
          "output_type": "execute_result",
          "data": {
            "text/plain": [
              "0.9814814814814815"
            ]
          },
          "metadata": {},
          "execution_count": 18
        }
      ]
    }
  ]
}